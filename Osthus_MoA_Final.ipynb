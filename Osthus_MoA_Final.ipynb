{
  "nbformat": 4,
  "nbformat_minor": 0,
  "metadata": {
    "kernelspec": {
      "display_name": "Python 3",
      "language": "python",
      "name": "python3"
    },
    "language_info": {
      "codemirror_mode": {
        "name": "ipython",
        "version": 3
      },
      "file_extension": ".py",
      "mimetype": "text/x-python",
      "name": "python",
      "nbconvert_exporter": "python",
      "pygments_lexer": "ipython3",
      "version": "3.7.6"
    },
    "papermill": {
      "duration": 1420.705756,
      "end_time": "2020-11-30T17:40:01.546181",
      "environment_variables": {},
      "exception": null,
      "input_path": "__notebook__.ipynb",
      "output_path": "__notebook__.ipynb",
      "parameters": {},
      "start_time": "2020-11-30T17:16:20.840425",
      "version": "2.1.0"
    },
    "colab": {
      "name": "Osthus-MoA-Final.ipynb",
      "provenance": []
    }
  },
  "cells": [
    {
      "cell_type": "code",
      "metadata": {
        "_cell_guid": "b1076dfc-b9ad-4769-8c92-a6c4dae69d19",
        "_uuid": "8f2839f25d086af736a60e9eeb907d3b93b6e0e5",
        "execution": {
          "iopub.execute_input": "2020-11-30T17:16:25.122677Z",
          "iopub.status.busy": "2020-11-30T17:16:25.121747Z",
          "iopub.status.idle": "2020-11-30T17:16:25.130231Z",
          "shell.execute_reply": "2020-11-30T17:16:25.129576Z"
        },
        "papermill": {
          "duration": 0.026969,
          "end_time": "2020-11-30T17:16:25.130339",
          "exception": false,
          "start_time": "2020-11-30T17:16:25.103370",
          "status": "completed"
        },
        "tags": [],
        "id": "p57sBbMeKXA1",
        "outputId": "6b3138a9-0ec9-4b03-c614-62f64721ed59"
      },
      "source": [
        "# Listing all the input files.\n",
        "import os\n",
        "for dirname, _, filenames in os.walk('/kaggle/input'):\n",
        "    for filename in filenames:\n",
        "        print(os.path.join(dirname, filename))"
      ],
      "execution_count": null,
      "outputs": [
        {
          "output_type": "stream",
          "text": [
            "/kaggle/input/lish-moa/sample_submission.csv\n",
            "/kaggle/input/lish-moa/train_drug.csv\n",
            "/kaggle/input/lish-moa/train_targets_scored.csv\n",
            "/kaggle/input/lish-moa/train_targets_nonscored.csv\n",
            "/kaggle/input/lish-moa/train_features.csv\n",
            "/kaggle/input/lish-moa/test_features.csv\n"
          ],
          "name": "stdout"
        }
      ]
    },
    {
      "cell_type": "code",
      "metadata": {
        "_cell_guid": "79c7e3d0-c299-4dcb-8224-4455121ee9b0",
        "_uuid": "d629ff2d2480ee46fbb7e2d37f6b5fab8052498a",
        "execution": {
          "iopub.execute_input": "2020-11-30T17:16:25.172013Z",
          "iopub.status.busy": "2020-11-30T17:16:25.171329Z",
          "iopub.status.idle": "2020-11-30T17:16:31.186219Z",
          "shell.execute_reply": "2020-11-30T17:16:31.185245Z"
        },
        "papermill": {
          "duration": 6.042039,
          "end_time": "2020-11-30T17:16:31.186333",
          "exception": false,
          "start_time": "2020-11-30T17:16:25.144294",
          "status": "completed"
        },
        "tags": [],
        "id": "agR_RodLKXA7"
      },
      "source": [
        "# Importing all the necessary libraries.\n",
        "import numpy as np\n",
        "import pandas as pd\n",
        "import tensorflow as tf\n",
        "import keras\n",
        "from keras import layers\n",
        "from tensorflow.keras.layers import Activation,Dense,Dropout,BatchNormalization,Input\n",
        "from keras.models import Sequential\n",
        "import matplotlib.pyplot as plt\n",
        "import scipy\n",
        "from scipy import stats\n",
        "import tensorflow_addons as tfa\n",
        "import warnings\n",
        "warnings.filterwarnings(\"ignore\", category=FutureWarning)"
      ],
      "execution_count": 1,
      "outputs": []
    },
    {
      "cell_type": "code",
      "metadata": {
        "execution": {
          "iopub.execute_input": "2020-11-30T17:16:31.219683Z",
          "iopub.status.busy": "2020-11-30T17:16:31.218069Z",
          "iopub.status.idle": "2020-11-30T17:16:36.963085Z",
          "shell.execute_reply": "2020-11-30T17:16:36.962115Z"
        },
        "papermill": {
          "duration": 5.764432,
          "end_time": "2020-11-30T17:16:36.963229",
          "exception": false,
          "start_time": "2020-11-30T17:16:31.198797",
          "status": "completed"
        },
        "tags": [],
        "id": "vnO0herGKXA7"
      },
      "source": [
        "# Reading the input files as dataframes.\n",
        "X_train = pd.read_csv('../input/lish-moa/train_features.csv')\n",
        "Y_train_processed = pd.read_csv('../input/lish-moa/train_targets_scored.csv', index_col=0)\n",
        "X_test = pd.read_csv('../input/lish-moa/test_features.csv')\n",
        "sample_submission = pd.read_csv('../input/lish-moa/sample_submission.csv')"
      ],
      "execution_count": null,
      "outputs": []
    },
    {
      "cell_type": "code",
      "metadata": {
        "execution": {
          "iopub.execute_input": "2020-11-30T17:16:37.068396Z",
          "iopub.status.busy": "2020-11-30T17:16:37.057803Z",
          "iopub.status.idle": "2020-11-30T17:16:37.113439Z",
          "shell.execute_reply": "2020-11-30T17:16:37.112956Z"
        },
        "papermill": {
          "duration": 0.072231,
          "end_time": "2020-11-30T17:16:37.113543",
          "exception": false,
          "start_time": "2020-11-30T17:16:37.041312",
          "status": "completed"
        },
        "tags": [],
        "id": "1_dEwnfSKXA8"
      },
      "source": [
        "# Feature engineering: Selected the subset of features based on correlation. Tried PCA, the results were not that good.\n",
        "\n",
        "top_features = [  1,   2,   3,   4,   5,   6,   7,   9,  11,  14,  15,  16,  17,\n",
        "        18,  19,  20,  21,  22,  23,  24,  25,  26,  27,  29,  30,  31,\n",
        "        32,  33,  35,  36,  37,  38,  39,  40,  41,  42,  43,  44,  46,\n",
        "        47,  48,  49,  50,  51,  52,  53,  54,  55,  56,  58,  59,  60,\n",
        "        61,  62,  63,  64,  65,  66,  67,  68,  69,  70,  71,  72,  73,\n",
        "        74,  75,  76,  78,  79,  80,  81,  82,  83,  84,  86,  87,  88,\n",
        "        89,  90,  91,  92,  93,  94,  95,  96,  97,  98,  99, 100, 101,\n",
        "       102, 103, 104, 105, 106, 107, 108, 109, 110, 111, 112, 113, 114,\n",
        "       115, 116, 117, 118, 120, 121, 122, 123, 124, 125, 126, 127, 128,\n",
        "       129, 130, 131, 132, 133, 136, 137, 138, 139, 140, 141, 142, 143,\n",
        "       144, 145, 146, 147, 149, 150, 151, 152, 153, 154, 155, 156, 157,\n",
        "       158, 159, 160, 161, 162, 163, 164, 165, 166, 167, 168, 169, 170,\n",
        "       171, 172, 173, 174, 175, 176, 177, 178, 179, 180, 181, 182, 183,\n",
        "       184, 185, 186, 187, 188, 189, 190, 191, 192, 193, 194, 195, 197,\n",
        "       198, 199, 200, 202, 203, 204, 205, 206, 208, 209, 210, 211, 212,\n",
        "       213, 214, 215, 216, 217, 218, 219, 220, 221, 223, 224, 225, 226,\n",
        "       227, 228, 229, 230, 231, 232, 233, 234, 235, 236, 237, 238, 239,\n",
        "       240, 242, 243, 244, 245, 246, 247, 248, 249, 250, 251, 252, 253,\n",
        "       254, 255, 256, 257, 258, 259, 260, 261, 262, 263, 264, 265, 266,\n",
        "       267, 268, 269, 271, 272, 273, 274, 275, 276, 277, 278, 279, 280,\n",
        "       281, 282, 283, 284, 285, 286, 287, 288, 289, 290, 291, 292, 294,\n",
        "       295, 296, 298, 300, 301, 302, 303, 304, 305, 306, 307, 308, 309,\n",
        "       310, 311, 312, 314, 315, 316, 317, 318, 319, 320, 321, 322, 323,\n",
        "       324, 325, 326, 327, 328, 329, 330, 331, 332, 333, 334, 335, 336,\n",
        "       337, 338, 339, 340, 341, 342, 343, 344, 345, 346, 347, 348, 349,\n",
        "       350, 351, 352, 353, 354, 355, 356, 357, 358, 359, 360, 361, 362,\n",
        "       363, 364, 365, 366, 367, 368, 369, 370, 371, 374, 375, 376, 377,\n",
        "       378, 379, 380, 381, 382, 383, 384, 385, 386, 387, 388, 390, 391,\n",
        "       392, 393, 394, 395, 396, 397, 398, 399, 400, 401, 402, 403, 404,\n",
        "       405, 406, 407, 408, 409, 411, 412, 413, 414, 415, 416, 417, 418,\n",
        "       419, 420, 421, 422, 423, 424, 425, 426, 427, 428, 429, 430, 431,\n",
        "       432, 434, 435, 436, 437, 438, 439, 440, 442, 443, 444, 445, 446,\n",
        "       447, 448, 449, 450, 453, 454, 456, 457, 458, 459, 460, 461, 462,\n",
        "       463, 464, 465, 466, 467, 468, 469, 470, 471, 472, 473, 474, 475,\n",
        "       476, 477, 478, 479, 481, 482, 483, 484, 485, 486, 487, 488, 489,\n",
        "       490, 491, 492, 493, 494, 495, 496, 498, 500, 501, 502, 503, 505,\n",
        "       506, 507, 509, 510, 511, 512, 513, 514, 515, 518, 519, 520, 521,\n",
        "       522, 523, 524, 525, 526, 527, 528, 530, 531, 532, 534, 535, 536,\n",
        "       538, 539, 540, 541, 542, 543, 544, 545, 546, 547, 549, 550, 551,\n",
        "       552, 554, 557, 559, 560, 561, 562, 565, 566, 567, 568, 569, 570,\n",
        "       571, 572, 573, 574, 575, 577, 578, 580, 581, 582, 583, 584, 585,\n",
        "       586, 587, 588, 589, 590, 591, 592, 593, 594, 595, 596, 597, 599,\n",
        "       600, 601, 602, 606, 607, 608, 609, 611, 612, 613, 615, 616, 617,\n",
        "       618, 619, 620, 621, 622, 623, 624, 625, 626, 627, 628, 629, 630,\n",
        "       631, 632, 633, 634, 635, 636, 637, 638, 639, 641, 642, 643, 644,\n",
        "       645, 646, 647, 648, 649, 650, 651, 652, 654, 655, 656, 658, 659,\n",
        "       660, 661, 662, 663, 664, 665, 666, 667, 668, 669, 670, 671, 672,\n",
        "       673, 674, 675, 676, 677, 678, 679, 680, 681, 682, 683, 684, 685,\n",
        "       686, 687, 688, 689, 691, 692, 693, 694, 695, 696, 697, 699, 700,\n",
        "       701, 702, 704, 705, 707, 708, 709, 710, 711, 713, 714, 716, 717,\n",
        "       718, 720, 721, 723, 724, 725, 726, 727, 728, 729, 730, 731, 732,\n",
        "       733, 734, 735, 737, 738, 739, 740, 742, 743, 744, 745, 746, 747,\n",
        "       748, 749, 750, 751, 752, 753, 754, 755, 756, 757, 759, 760, 761,\n",
        "       762, 763, 764, 765, 766, 767, 768, 769, 770, 771, 772, 773, 774,\n",
        "       775, 776, 777, 779, 780, 781, 782, 783, 784, 785, 786, 787, 788,\n",
        "       789, 790, 792, 793, 794, 795, 796, 797, 798, 800, 801, 802, 803,\n",
        "       804, 805, 806, 808, 809, 811, 813, 814, 815, 816, 817, 818, 819,\n",
        "       821, 822, 823, 825, 826, 827, 828, 829, 830, 831, 832, 834, 835,\n",
        "       837, 838, 839, 840, 841, 842, 845, 846, 847, 848, 850, 851, 852,\n",
        "       854, 855, 856, 858, 859, 860, 861, 862, 864, 866, 867, 868, 869,\n",
        "       870, 871, 872, 873, 874]"
      ],
      "execution_count": null,
      "outputs": []
    },
    {
      "cell_type": "code",
      "metadata": {
        "execution": {
          "iopub.execute_input": "2020-11-30T17:16:37.151325Z",
          "iopub.status.busy": "2020-11-30T17:16:37.150397Z",
          "iopub.status.idle": "2020-11-30T17:16:37.164884Z",
          "shell.execute_reply": "2020-11-30T17:16:37.164368Z"
        },
        "papermill": {
          "duration": 0.037899,
          "end_time": "2020-11-30T17:16:37.164984",
          "exception": false,
          "start_time": "2020-11-30T17:16:37.127085",
          "status": "completed"
        },
        "tags": [],
        "id": "4ZpdEspkKXA8"
      },
      "source": [
        "# Preprocessing the data by mapping non-numeric features to numeric values and removing the id column.\n",
        "\n",
        "def preprocess(df):\n",
        "    df.loc[:, 'cp_type'] = df.loc[:, 'cp_type'].map({'trt_cp': 0, 'ctl_vehicle': 1})\n",
        "    df.loc[:, 'cp_dose'] = df.loc[:, 'cp_dose'].map({'D1': 0, 'D2': 1})\n",
        "    del df['sig_id']\n",
        "    return df\n",
        "\n",
        "X_train_processed = preprocess(X_train)\n",
        "X_test_processed = preprocess(X_test)"
      ],
      "execution_count": null,
      "outputs": []
    },
    {
      "cell_type": "code",
      "metadata": {
        "execution": {
          "iopub.execute_input": "2020-11-30T17:16:37.277039Z",
          "iopub.status.busy": "2020-11-30T17:16:37.266456Z",
          "iopub.status.idle": "2020-11-30T17:16:45.913677Z",
          "shell.execute_reply": "2020-11-30T17:16:45.913102Z"
        },
        "papermill": {
          "duration": 8.668653,
          "end_time": "2020-11-30T17:16:45.913801",
          "exception": false,
          "start_time": "2020-11-30T17:16:37.245148",
          "status": "completed"
        },
        "tags": [],
        "id": "_1fvI2hbKXA9"
      },
      "source": [
        "# Defining the model with multiple hidden layers and few optimizations such as BatchNorm, WeightNorm and Dropout.\n",
        "\n",
        "model = tf.keras.Sequential([\n",
        "    tf.keras.layers.Input(len(top_features)),\n",
        "    tf.keras.layers.BatchNormalization(),\n",
        "    tfa.layers.WeightNormalization(tf.keras.layers.Dense(4096, activation=\"elu\")),\n",
        "    tf.keras.layers.Dropout(0.2),\n",
        "    tf.keras.layers.BatchNormalization(),\n",
        "    tfa.layers.WeightNormalization(tf.keras.layers.Dense(4096, activation=\"elu\")),\n",
        "    tf.keras.layers.Dropout(0.2),\n",
        "    tf.keras.layers.BatchNormalization(),\n",
        "    tfa.layers.WeightNormalization(tf.keras.layers.Dense(4096, activation=\"elu\")),\n",
        "    tf.keras.layers.Dropout(0.2),\n",
        "    tf.keras.layers.BatchNormalization(),\n",
        "    tfa.layers.WeightNormalization(tf.keras.layers.Dense(4096, activation=\"elu\")),\n",
        "    tf.keras.layers.Dropout(0.2),\n",
        "    tf.keras.layers.BatchNormalization(),\n",
        "    tfa.layers.WeightNormalization(tf.keras.layers.Dense(4096, activation=\"elu\")),\n",
        "    tf.keras.layers.Dropout(0.2),\n",
        "    tf.keras.layers.BatchNormalization(),\n",
        "    tfa.layers.WeightNormalization(tf.keras.layers.Dense(4096, activation=\"elu\")),\n",
        "    tf.keras.layers.Dropout(0.2),\n",
        "    tf.keras.layers.BatchNormalization(),\n",
        "    tfa.layers.WeightNormalization(tf.keras.layers.Dense(4096, activation=\"elu\")),\n",
        "    tf.keras.layers.Dropout(0.2),\n",
        "    tf.keras.layers.BatchNormalization(),\n",
        "    tfa.layers.WeightNormalization(tf.keras.layers.Dense(4096, activation=\"elu\")),\n",
        "    tf.keras.layers.Dropout(0.2),\n",
        "    tf.keras.layers.BatchNormalization(),\n",
        "    tfa.layers.WeightNormalization(tf.keras.layers.Dense(4096, activation=\"elu\")),\n",
        "    tf.keras.layers.Dropout(0.2),\n",
        "    tf.keras.layers.BatchNormalization(),\n",
        "    tfa.layers.WeightNormalization(tf.keras.layers.Dense(4096, activation=\"elu\")),\n",
        "    tf.keras.layers.Dropout(0.2),\n",
        "    tf.keras.layers.BatchNormalization(),\n",
        "    tfa.layers.WeightNormalization(tf.keras.layers.Dense(4096, activation=\"elu\")),\n",
        "    tf.keras.layers.Dropout(0.2),\n",
        "    tf.keras.layers.BatchNormalization(),\n",
        "    tfa.layers.WeightNormalization(tf.keras.layers.Dense(4096, activation=\"elu\")),\n",
        "    tf.keras.layers.Dropout(0.2),\n",
        "    tf.keras.layers.BatchNormalization(),\n",
        "    tfa.layers.WeightNormalization(tf.keras.layers.Dense(4096, activation=\"elu\")),\n",
        "    tf.keras.layers.Dropout(0.2),\n",
        "    tf.keras.layers.BatchNormalization(),\n",
        "    tfa.layers.WeightNormalization(tf.keras.layers.Dense(4096, activation=\"elu\")),\n",
        "    tf.keras.layers.Dropout(0.2),\n",
        "    tf.keras.layers.BatchNormalization(),\n",
        "    tfa.layers.WeightNormalization(tf.keras.layers.Dense(4096, activation=\"elu\")),\n",
        "    tf.keras.layers.Dropout(0.2),\n",
        "    tf.keras.layers.BatchNormalization(),\n",
        "    tfa.layers.WeightNormalization(tf.keras.layers.Dense(4096, activation=\"elu\")),\n",
        "    tf.keras.layers.Dropout(0.2),\n",
        "    tf.keras.layers.BatchNormalization(),\n",
        "    tfa.layers.WeightNormalization(tf.keras.layers.Dense(4096, activation=\"elu\")),\n",
        "    tf.keras.layers.Dropout(0.2),    \n",
        "    tf.keras.layers.BatchNormalization(),\n",
        "    tfa.layers.WeightNormalization(tf.keras.layers.Dense(4096, activation=\"elu\")),\n",
        "    tf.keras.layers.Dropout(0.2),\n",
        "    tf.keras.layers.BatchNormalization(),\n",
        "    tfa.layers.WeightNormalization(tf.keras.layers.Dense(4096, activation=\"elu\")),\n",
        "    tf.keras.layers.Dropout(0.2),\n",
        "    tf.keras.layers.BatchNormalization(),\n",
        "    tfa.layers.WeightNormalization(tf.keras.layers.Dense(4096, activation=\"elu\")),\n",
        "    tf.keras.layers.Dropout(0.2),\n",
        "    tf.keras.layers.BatchNormalization(),\n",
        "    tfa.layers.WeightNormalization(tf.keras.layers.Dense(4096, activation=\"elu\")),\n",
        "    tf.keras.layers.Dropout(0.2),\n",
        "    tf.keras.layers.BatchNormalization(),\n",
        "    tfa.layers.WeightNormalization(tf.keras.layers.Dense(4096, activation=\"elu\")),\n",
        "    tf.keras.layers.Dropout(0.2),\n",
        "    tf.keras.layers.BatchNormalization(),\n",
        "    tfa.layers.WeightNormalization(tf.keras.layers.Dense(4096, activation=\"elu\")),\n",
        "    tf.keras.layers.Dropout(0.2),\n",
        "    tf.keras.layers.BatchNormalization(),\n",
        "    tfa.layers.WeightNormalization(tf.keras.layers.Dense(4096, activation=\"elu\")),\n",
        "    tf.keras.layers.Dropout(0.2),\n",
        "    tf.keras.layers.BatchNormalization(),\n",
        "    tfa.layers.WeightNormalization(tf.keras.layers.Dense(4096, activation=\"elu\")),\n",
        "    tf.keras.layers.Dropout(0.2),\n",
        "    tf.keras.layers.Dense(206, activation=\"sigmoid\")\n",
        "    ])\n",
        "\n",
        "model.compile(optimizer=tf.keras.optimizers.Adam(lr=2.75e-5), loss='binary_crossentropy', metrics=[\"accuracy\", \"AUC\"])"
      ],
      "execution_count": null,
      "outputs": []
    },
    {
      "cell_type": "code",
      "metadata": {
        "execution": {
          "iopub.execute_input": "2020-11-30T17:16:45.947483Z",
          "iopub.status.busy": "2020-11-30T17:16:45.945114Z",
          "iopub.status.idle": "2020-11-30T17:16:45.994631Z",
          "shell.execute_reply": "2020-11-30T17:16:45.992962Z"
        },
        "papermill": {
          "duration": 0.067055,
          "end_time": "2020-11-30T17:16:45.994779",
          "exception": false,
          "start_time": "2020-11-30T17:16:45.927724",
          "status": "completed"
        },
        "tags": [],
        "id": "hB5XnxrUKXA-",
        "outputId": "32cea817-20d4-450e-af78-0096e469e018"
      },
      "source": [
        "model.summary()"
      ],
      "execution_count": null,
      "outputs": [
        {
          "output_type": "stream",
          "text": [
            "Model: \"sequential\"\n",
            "_________________________________________________________________\n",
            "Layer (type)                 Output Shape              Param #   \n",
            "=================================================================\n",
            "batch_normalization (BatchNo (None, 785)               3140      \n",
            "_________________________________________________________________\n",
            "weight_normalization (Weight (None, 4096)              6443009   \n",
            "_________________________________________________________________\n",
            "dropout (Dropout)            (None, 4096)              0         \n",
            "_________________________________________________________________\n",
            "batch_normalization_1 (Batch (None, 4096)              16384     \n",
            "_________________________________________________________________\n",
            "weight_normalization_1 (Weig (None, 4096)              33566721  \n",
            "_________________________________________________________________\n",
            "dropout_1 (Dropout)          (None, 4096)              0         \n",
            "_________________________________________________________________\n",
            "batch_normalization_2 (Batch (None, 4096)              16384     \n",
            "_________________________________________________________________\n",
            "weight_normalization_2 (Weig (None, 4096)              33566721  \n",
            "_________________________________________________________________\n",
            "dropout_2 (Dropout)          (None, 4096)              0         \n",
            "_________________________________________________________________\n",
            "batch_normalization_3 (Batch (None, 4096)              16384     \n",
            "_________________________________________________________________\n",
            "weight_normalization_3 (Weig (None, 4096)              33566721  \n",
            "_________________________________________________________________\n",
            "dropout_3 (Dropout)          (None, 4096)              0         \n",
            "_________________________________________________________________\n",
            "batch_normalization_4 (Batch (None, 4096)              16384     \n",
            "_________________________________________________________________\n",
            "weight_normalization_4 (Weig (None, 4096)              33566721  \n",
            "_________________________________________________________________\n",
            "dropout_4 (Dropout)          (None, 4096)              0         \n",
            "_________________________________________________________________\n",
            "batch_normalization_5 (Batch (None, 4096)              16384     \n",
            "_________________________________________________________________\n",
            "weight_normalization_5 (Weig (None, 4096)              33566721  \n",
            "_________________________________________________________________\n",
            "dropout_5 (Dropout)          (None, 4096)              0         \n",
            "_________________________________________________________________\n",
            "batch_normalization_6 (Batch (None, 4096)              16384     \n",
            "_________________________________________________________________\n",
            "weight_normalization_6 (Weig (None, 4096)              33566721  \n",
            "_________________________________________________________________\n",
            "dropout_6 (Dropout)          (None, 4096)              0         \n",
            "_________________________________________________________________\n",
            "batch_normalization_7 (Batch (None, 4096)              16384     \n",
            "_________________________________________________________________\n",
            "weight_normalization_7 (Weig (None, 4096)              33566721  \n",
            "_________________________________________________________________\n",
            "dropout_7 (Dropout)          (None, 4096)              0         \n",
            "_________________________________________________________________\n",
            "batch_normalization_8 (Batch (None, 4096)              16384     \n",
            "_________________________________________________________________\n",
            "weight_normalization_8 (Weig (None, 4096)              33566721  \n",
            "_________________________________________________________________\n",
            "dropout_8 (Dropout)          (None, 4096)              0         \n",
            "_________________________________________________________________\n",
            "batch_normalization_9 (Batch (None, 4096)              16384     \n",
            "_________________________________________________________________\n",
            "weight_normalization_9 (Weig (None, 4096)              33566721  \n",
            "_________________________________________________________________\n",
            "dropout_9 (Dropout)          (None, 4096)              0         \n",
            "_________________________________________________________________\n",
            "batch_normalization_10 (Batc (None, 4096)              16384     \n",
            "_________________________________________________________________\n",
            "weight_normalization_10 (Wei (None, 4096)              33566721  \n",
            "_________________________________________________________________\n",
            "dropout_10 (Dropout)         (None, 4096)              0         \n",
            "_________________________________________________________________\n",
            "batch_normalization_11 (Batc (None, 4096)              16384     \n",
            "_________________________________________________________________\n",
            "weight_normalization_11 (Wei (None, 4096)              33566721  \n",
            "_________________________________________________________________\n",
            "dropout_11 (Dropout)         (None, 4096)              0         \n",
            "_________________________________________________________________\n",
            "batch_normalization_12 (Batc (None, 4096)              16384     \n",
            "_________________________________________________________________\n",
            "weight_normalization_12 (Wei (None, 4096)              33566721  \n",
            "_________________________________________________________________\n",
            "dropout_12 (Dropout)         (None, 4096)              0         \n",
            "_________________________________________________________________\n",
            "batch_normalization_13 (Batc (None, 4096)              16384     \n",
            "_________________________________________________________________\n",
            "weight_normalization_13 (Wei (None, 4096)              33566721  \n",
            "_________________________________________________________________\n",
            "dropout_13 (Dropout)         (None, 4096)              0         \n",
            "_________________________________________________________________\n",
            "batch_normalization_14 (Batc (None, 4096)              16384     \n",
            "_________________________________________________________________\n",
            "weight_normalization_14 (Wei (None, 4096)              33566721  \n",
            "_________________________________________________________________\n",
            "dropout_14 (Dropout)         (None, 4096)              0         \n",
            "_________________________________________________________________\n",
            "batch_normalization_15 (Batc (None, 4096)              16384     \n",
            "_________________________________________________________________\n",
            "weight_normalization_15 (Wei (None, 4096)              33566721  \n",
            "_________________________________________________________________\n",
            "dropout_15 (Dropout)         (None, 4096)              0         \n",
            "_________________________________________________________________\n",
            "batch_normalization_16 (Batc (None, 4096)              16384     \n",
            "_________________________________________________________________\n",
            "weight_normalization_16 (Wei (None, 4096)              33566721  \n",
            "_________________________________________________________________\n",
            "dropout_16 (Dropout)         (None, 4096)              0         \n",
            "_________________________________________________________________\n",
            "batch_normalization_17 (Batc (None, 4096)              16384     \n",
            "_________________________________________________________________\n",
            "weight_normalization_17 (Wei (None, 4096)              33566721  \n",
            "_________________________________________________________________\n",
            "dropout_17 (Dropout)         (None, 4096)              0         \n",
            "_________________________________________________________________\n",
            "batch_normalization_18 (Batc (None, 4096)              16384     \n",
            "_________________________________________________________________\n",
            "weight_normalization_18 (Wei (None, 4096)              33566721  \n",
            "_________________________________________________________________\n",
            "dropout_18 (Dropout)         (None, 4096)              0         \n",
            "_________________________________________________________________\n",
            "batch_normalization_19 (Batc (None, 4096)              16384     \n",
            "_________________________________________________________________\n",
            "weight_normalization_19 (Wei (None, 4096)              33566721  \n",
            "_________________________________________________________________\n",
            "dropout_19 (Dropout)         (None, 4096)              0         \n",
            "_________________________________________________________________\n",
            "batch_normalization_20 (Batc (None, 4096)              16384     \n",
            "_________________________________________________________________\n",
            "weight_normalization_20 (Wei (None, 4096)              33566721  \n",
            "_________________________________________________________________\n",
            "dropout_20 (Dropout)         (None, 4096)              0         \n",
            "_________________________________________________________________\n",
            "batch_normalization_21 (Batc (None, 4096)              16384     \n",
            "_________________________________________________________________\n",
            "weight_normalization_21 (Wei (None, 4096)              33566721  \n",
            "_________________________________________________________________\n",
            "dropout_21 (Dropout)         (None, 4096)              0         \n",
            "_________________________________________________________________\n",
            "batch_normalization_22 (Batc (None, 4096)              16384     \n",
            "_________________________________________________________________\n",
            "weight_normalization_22 (Wei (None, 4096)              33566721  \n",
            "_________________________________________________________________\n",
            "dropout_22 (Dropout)         (None, 4096)              0         \n",
            "_________________________________________________________________\n",
            "batch_normalization_23 (Batc (None, 4096)              16384     \n",
            "_________________________________________________________________\n",
            "weight_normalization_23 (Wei (None, 4096)              33566721  \n",
            "_________________________________________________________________\n",
            "dropout_23 (Dropout)         (None, 4096)              0         \n",
            "_________________________________________________________________\n",
            "batch_normalization_24 (Batc (None, 4096)              16384     \n",
            "_________________________________________________________________\n",
            "weight_normalization_24 (Wei (None, 4096)              33566721  \n",
            "_________________________________________________________________\n",
            "dropout_24 (Dropout)         (None, 4096)              0         \n",
            "_________________________________________________________________\n",
            "dense_25 (Dense)             (None, 206)               843982    \n",
            "=================================================================\n",
            "Total params: 813,284,651\n",
            "Trainable params: 407,115,504\n",
            "Non-trainable params: 406,169,147\n",
            "_________________________________________________________________\n"
          ],
          "name": "stdout"
        }
      ]
    },
    {
      "cell_type": "code",
      "metadata": {
        "execution": {
          "iopub.execute_input": "2020-11-30T17:16:46.041886Z",
          "iopub.status.busy": "2020-11-30T17:16:46.040918Z",
          "iopub.status.idle": "2020-11-30T17:39:40.152084Z",
          "shell.execute_reply": "2020-11-30T17:39:40.152537Z"
        },
        "papermill": {
          "duration": 1374.131029,
          "end_time": "2020-11-30T17:39:40.152713",
          "exception": false,
          "start_time": "2020-11-30T17:16:46.021684",
          "status": "completed"
        },
        "tags": [],
        "id": "zf49NMcuKXA_"
      },
      "source": [
        "# Fitting the model to the corresponding data.\r\n",
        "\r\n",
        "history = model.fit(X_train_processed.iloc[:,top_features], Y_train_processed, batch_size = 1000, epochs = 110)"
      ],
      "execution_count": null,
      "outputs": []
    },
    {
      "cell_type": "code",
      "metadata": {
        "execution": {
          "iopub.execute_input": "2020-11-30T17:39:42.169543Z",
          "iopub.status.busy": "2020-11-30T17:39:42.168932Z",
          "iopub.status.idle": "2020-11-30T17:39:42.539452Z",
          "shell.execute_reply": "2020-11-30T17:39:42.539941Z"
        },
        "papermill": {
          "duration": 1.401039,
          "end_time": "2020-11-30T17:39:42.540069",
          "exception": false,
          "start_time": "2020-11-30T17:39:41.139030",
          "status": "completed"
        },
        "tags": [],
        "id": "l3sjw4zuKXA_",
        "outputId": "00433374-9493-4869-e57a-8cb89291bf61"
      },
      "source": [
        "# summarize history for accuracy\n",
        "plt.plot(history.history['accuracy'])\n",
        "plt.title('model accuracy')\n",
        "plt.ylabel('accuracy')\n",
        "plt.xlabel('epoch')\n",
        "plt.legend(['train'], loc='upper left')\n",
        "plt.show()\n",
        "\n",
        "# summarize history for loss\n",
        "plt.plot(history.history['loss'])\n",
        "plt.title('model loss')\n",
        "plt.ylabel('loss')\n",
        "plt.xlabel('epoch')\n",
        "plt.legend(['train'], loc='upper left')\n",
        "plt.show()"
      ],
      "execution_count": null,
      "outputs": [
        {
          "output_type": "display_data",
          "data": {
            "image/png": "[encoded data removed]",
            "text/plain": [
              "<Figure size 432x288 with 1 Axes>"
            ]
          },
          "metadata": {
            "tags": [],
            "needs_background": "light"
          }
        },
        {
          "output_type": "display_data",
          "data": {
            "image/png": "[encoded data removed]",
            "text/plain": [
              "<Figure size 432x288 with 1 Axes>"
            ]
          },
          "metadata": {
            "tags": [],
            "needs_background": "light"
          }
        }
      ]
    },
    {
      "cell_type": "code",
      "metadata": {
        "execution": {
          "iopub.execute_input": "2020-11-30T17:39:47.137948Z",
          "iopub.status.busy": "2020-11-30T17:39:47.137030Z",
          "iopub.status.idle": "2020-11-30T17:39:47.140207Z",
          "shell.execute_reply": "2020-11-30T17:39:47.140974Z"
        },
        "papermill": {
          "duration": 1.092161,
          "end_time": "2020-11-30T17:39:47.141136",
          "exception": false,
          "start_time": "2020-11-30T17:39:46.048975",
          "status": "completed"
        },
        "tags": [],
        "id": "Hr9lU9_uKXBA"
      },
      "source": [
        "# function converting the arg-variable to a Keras Tensor\n",
        "def my_func(arg):\n",
        "  arg = tf.convert_to_tensor(arg, dtype=tf.float32)\n",
        "  return arg"
      ],
      "execution_count": null,
      "outputs": []
    },
    {
      "cell_type": "code",
      "metadata": {
        "execution": {
          "iopub.execute_input": "2020-11-30T17:39:49.268062Z",
          "iopub.status.busy": "2020-11-30T17:39:49.266699Z",
          "iopub.status.idle": "2020-11-30T17:39:49.278837Z",
          "shell.execute_reply": "2020-11-30T17:39:49.278303Z"
        },
        "papermill": {
          "duration": 1.004941,
          "end_time": "2020-11-30T17:39:49.278954",
          "exception": false,
          "start_time": "2020-11-30T17:39:48.274013",
          "status": "completed"
        },
        "tags": [],
        "id": "ZRMIRmY1KXBA"
      },
      "source": [
        "X_final = X_test_processed.iloc[: , 1: ].values "
      ],
      "execution_count": null,
      "outputs": []
    },
    {
      "cell_type": "code",
      "metadata": {
        "execution": {
          "iopub.execute_input": "2020-11-30T17:39:51.294255Z",
          "iopub.status.busy": "2020-11-30T17:39:51.293402Z",
          "iopub.status.idle": "2020-11-30T17:39:59.309403Z",
          "shell.execute_reply": "2020-11-30T17:39:59.308279Z"
        },
        "papermill": {
          "duration": 9.033861,
          "end_time": "2020-11-30T17:39:59.309527",
          "exception": false,
          "start_time": "2020-11-30T17:39:50.275666",
          "status": "completed"
        },
        "tags": [],
        "id": "yoeG6tp2KXBA"
      },
      "source": [
        "# Processing the output and submitting.\n",
        "\n",
        "y_pred = model.predict(my_func(X_test_processed.iloc[:,top_features]))\n",
        "\n",
        "columns = list(sample_submission.columns)\n",
        "columns.remove('sig_id')\n",
        "\n",
        "for i in range(len(columns)):\n",
        "    sample_submission[columns[i]] = y_pred[:, i]\n",
        "\n",
        "sample_submission.to_csv('submission.csv', index=False)"
      ],
      "execution_count": null,
      "outputs": []
    }
  ]
}